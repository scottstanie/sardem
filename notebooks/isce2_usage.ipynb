{
 "cells": [
  {
   "cell_type": "markdown",
   "id": "a8392f58-d0ff-4f7d-8e4c-dc17a65e5bcf",
   "metadata": {},
   "source": [
    "# Using sardem for ISCE2 processing\n",
    "\n",
    "While [ISCE2](https://github.com/isce-framework/isce2) has the `dem.py` script to create DEMs, you can use the DEMs produced by `sardem` tool in ISCE by setting the `-isce` or `--make-isce-xml` (for example, if you'd like to use the Copernicus DEM's, which aren't currently available through the ISCE DEM script). \n",
    "\n",
    "The `-isce` flag will produce the necessary  \".xml\"/\".vrt\" files used by ISCE.\n",
    "\n",
    "Note that ISCE is *not* installed as a dependency of `sardem`; you must separately `conda install -c conda-forge isce2` or see the ISCE README for full installation instructions to use this flag."
   ]
  },
  {
   "cell_type": "markdown",
   "id": "15e1d0a6-7fe6-4937-97e4-357daf661333",
   "metadata": {},
   "source": [
    "## Differences between sardem and ISCE's `dem.py` script:\n",
    "The main differences between how a user requests a DEM with `sardem` and with `dem.py` are due to `sardem` following GDAL's bounding box convention.\n",
    "\n",
    "\n",
    "1. From the help string, one usage of `dem.py` is :\n",
    "\n",
    "> Stitch the requested files and apply EGM96 -> WGS84 correction (-c)\n",
    ">\n",
    "> dem.py -a stitch -b 31 33 -114 -113 -r -s 1 -c\n",
    "\n",
    "We see that the order of the boundaries for ISCE is \"SNWE\" (south, north, west, east), while `sardem` uses `--bbox left bottom right top`, which means the order  is (west, south, east, north).\n",
    "The `dem.py` script also currently allows only integer bounds, so that the entire SRTM tiles are stitched together. `sardem` allows any floating-point bbox.\n",
    "\n",
    "\n",
    "2. In GDAL's bounding box convention, the four numbers refer to the **outer edge** of the image. In ISCE, the XML files point to the **center** of the pixels.\n",
    "\n",
    "What this means in practice is that to completely replicate the output of \n",
    "\n",
    "`dem.py -a stitch -b 31 33 -114 -113 -r -s 1 -c`\n",
    "\n",
    "\n",
    "the bounding box needs to be shifted up/left 1/2 a pixel:\n",
    "\n",
    "`sardem --bbox -114.000138888888 31.000138888888 -113.000138888888 33.000138888888`\n",
    "\n",
    "This is because the SRTM lat/lon numbers in the tile names refer to the pixel centers, so the tiles actually extend out 1/2 a pixel in all directions.\n",
    "Also, the `dem.py` script leaves off the bottom/right row of pixels in the tile (hence a shift up+left, rather than a padding in all directions).\n"
   ]
  },
  {
   "cell_type": "code",
   "execution_count": 7,
   "id": "04e83f19-7268-4a8e-af2e-90cb99f090f2",
   "metadata": {},
   "outputs": [
    {
     "name": "stdout",
     "output_type": "stream",
     "text": [
      "This is the Open Source version of ISCE.\n",
      "Some of the workflows depend on a separate licensed package.\n",
      "To obtain the licensed package, please make a request for ISCE\n",
      "through the website: https://download.jpl.nasa.gov/ops/request/index.cfm.\n",
      "Alternatively, if you are a member, or can become a member of WinSAR\n",
      "you may be able to obtain access to a version of the licensed sofware at\n",
      "https://winsar.unavco.org/software/isce\n",
      "curl -n  -L -c $HOME/.earthdatacookie -b $HOME/.earthdatacookie -k -f -O https://e4ftl01.cr.usgs.gov/MEASURES/SRTMGL1.003/2000.02.11/N32W114.SRTMGL1.hgt.zip\n",
      "  % Total    % Received % Xferd  Average Speed   Time    Time     Time  Current\n",
      "                                 Dload  Upload   Total   Spent    Left  Speed\n",
      "100 8288k  100 8288k    0     0   486k      0  0:00:17  0:00:17 --:--:-- 2401k--:--     0\n",
      "curl -n  -L -c $HOME/.earthdatacookie -b $HOME/.earthdatacookie -k -f -O https://e4ftl01.cr.usgs.gov/MEASURES/SRTMGL1.003/2000.02.11/N31W114.SRTMGL1.hgt.zip\n",
      "  % Total    % Received % Xferd  Average Speed   Time    Time     Time  Current\n",
      "                                 Dload  Upload   Total   Spent    Left  Speed\n",
      "100 5846k  100 5846k    0     0   297k      0  0:00:19  0:00:19 --:--:-- 1352k\n",
      "API open (R): ./demLat_N31_N33_Lon_W114_W113.dem\n",
      "API close:  ./demLat_N31_N33_Lon_W114_W113.dem\n",
      "Writing geotrans to VRT for ./demLat_N31_N33_Lon_W114_W113.dem\n",
      "GDAL open (R): ./demLat_N31_N33_Lon_W114_W113.dem.vrt\n",
      "API open (WR): demLat_N31_N33_Lon_W114_W113.dem.wgs84\n",
      "\n",
      "    << Geoid Correction I2 SRTM>>\n",
      "\n",
      "Jet Propulsion Laboratory - Radar Science and Engineering\n",
      "\n",
      "\n",
      "Sampling Geoid at grid points -  Longitude Samples:    13 Latitude Lines:    23\n",
      "Corner Geoid Heights (m) =  -34.35 -35.82 -32.83 -31.68\n",
      "\n",
      "Correcting data to geoid height...\n",
      "\n",
      "At line:      512\n",
      "At line:     1024\n",
      "At line:     1536\n",
      "At line:     2048\n",
      "At line:     2560\n",
      "At line:     3072\n",
      "At line:     3584\n",
      "At line:     4096\n",
      "At line:     4608\n",
      "At line:     5120\n",
      "At line:     5632\n",
      "At line:     6144\n",
      "At line:     6656\n",
      "At line:     7168\n",
      "GDAL close: ./demLat_N31_N33_Lon_W114_W113.dem.vrt\n",
      "API close:  demLat_N31_N33_Lon_W114_W113.dem.wgs84\n",
      "API open (R): demLat_N31_N33_Lon_W114_W113.dem.wgs84\n",
      "API close:  demLat_N31_N33_Lon_W114_W113.dem.wgs84\n",
      "Writing geotrans to VRT for demLat_N31_N33_Lon_W114_W113.dem.wgs84\n",
      "Writing geotrans to VRT for /Users/staniewi/repos/sardem/notebooks/demLat_N31_N33_Lon_W114_W113.dem.wgs84\n",
      "N32W114.SRTMGL1.hgt.zip = succeded\n",
      "N31W114.SRTMGL1.hgt.zip = succeded\n"
     ]
    }
   ],
   "source": [
    "!dem.py -a stitch -b 31 33 -114 -113 -r -s 1 -c"
   ]
  },
  {
   "cell_type": "code",
   "execution_count": 44,
   "id": "bde05925-30aa-4847-84f3-a9abf3a24ff5",
   "metadata": {},
   "outputs": [
    {
     "name": "stdout",
     "output_type": "stream",
     "text": [
      "[08/17 12:34:01] [INFO dem.py] Bounds: -114.000138888888 31.000138888888 -113.000138888888 33.000138888888\n",
      "[08/17 12:34:01] [INFO download.py] /Users/staniewi/.cache/sardem/N32W114.hgt already exists, skipping.\n",
      "[08/17 12:34:01] [INFO download.py] /Users/staniewi/.cache/sardem/N31W114.hgt already exists, skipping.\n",
      "[08/17 12:34:01] [INFO dem.py] Cropping stitched DEM to boundaries\n",
      "[08/17 12:34:03] [INFO dem.py] Rate = 1: No upsampling to do\n",
      "[08/17 12:34:03] [INFO dem.py] Writing DEM to sardem_version.dem\n",
      "[08/17 12:34:03] [INFO dem.py] Writing .dem.rsc file to sardem_version.dem.rsc\n",
      "[08/17 12:34:03] [INFO dem.py] Creating ISCE2 XML file\n",
      "This is the Open Source version of ISCE.\n",
      "Some of the workflows depend on a separate licensed package.\n",
      "To obtain the licensed package, please make a request for ISCE\n",
      "through the website: https://download.jpl.nasa.gov/ops/request/index.cfm.\n",
      "Alternatively, if you are a member, or can become a member of WinSAR\n",
      "you may be able to obtain access to a version of the licensed sofware at\n",
      "https://winsar.unavco.org/software/isce\n",
      "Writing geotrans to VRT for /Users/staniewi/repos/sardem/notebooks/sardem_version.dem\n",
      "Creating output file that is 3600P x 7200L.\n",
      "Processing egm_sardem_version.dem [1/1] : 0...10...20...30...40...50...60...70...80...90...100 - done.\n"
     ]
    }
   ],
   "source": [
    "!sardem -isce --bbox -114.000138888888 31.000138888888 -113.000138888888 33.000138888888 -o sardem_version.dem"
   ]
  },
  {
   "cell_type": "code",
   "execution_count": 45,
   "id": "9cd35689-3b10-4bfe-9e86-66f56cb0b762",
   "metadata": {},
   "outputs": [
    {
     "name": "stdout",
     "output_type": "stream",
     "text": [
      "sardem_version.dem     sardem_version.dem.vrt\n",
      "sardem_version.dem.rsc sardem_version.dem.xml\n"
     ]
    }
   ],
   "source": [
    "!ls sardem_version*"
   ]
  },
  {
   "cell_type": "markdown",
   "id": "1036f8e9-def6-494d-abf7-e85aa5179b57",
   "metadata": {},
   "source": [
    "The \".xml\" and \".vrt\" files were created since the `-isce` flag was passed.\n",
    "\n",
    "We can see from the \"startingvalue\"s that `sardem` has shifted the convention to be pixel-centeres for these ISCE files, and that they match the `dem.py` values."
   ]
  },
  {
   "cell_type": "code",
   "execution_count": 54,
   "id": "81782a95-9f47-49b1-b962-329239d7fede",
   "metadata": {},
   "outputs": [
    {
     "name": "stdout",
     "output_type": "stream",
     "text": [
      "30-        <property name=\"size\">\n",
      "31-            <value>3600</value>\n",
      "32-            <doc>Coordinate size.</doc>\n",
      "33-        </property>\n",
      "34:        <property name=\"startingvalue\">\n",
      "35-            <value>-114.0</value>\n",
      "36-            <doc>Starting value of the coordinate.</doc>\n",
      "37-        </property>\n",
      "38-    </component>\n",
      "--\n",
      "59-        <property name=\"size\">\n",
      "60-            <value>7200</value>\n",
      "61-            <doc>Coordinate size.</doc>\n",
      "62-        </property>\n",
      "63:        <property name=\"startingvalue\">\n",
      "64-            <value>33.0</value>\n",
      "65-            <doc>Starting value of the coordinate.</doc>\n",
      "66-        </property>\n",
      "67-    </component>\n"
     ]
    }
   ],
   "source": [
    "!grep -n4 'starting' sardem_version.dem.xml"
   ]
  },
  {
   "cell_type": "code",
   "execution_count": 53,
   "id": "6c0a5b92-1fdc-48f6-8077-7e14e1ea35b9",
   "metadata": {},
   "outputs": [
    {
     "name": "stdout",
     "output_type": "stream",
     "text": [
      "33-        <property name=\"size\">\n",
      "34-            <value>3600</value>\n",
      "35-            <doc>Coordinate size.</doc>\n",
      "36-        </property>\n",
      "37:        <property name=\"startingvalue\">\n",
      "38-            <value>-114.0</value>\n",
      "39-            <doc>Starting value of the coordinate.</doc>\n",
      "40-        </property>\n",
      "41-    </component>\n",
      "--\n",
      "62-        <property name=\"size\">\n",
      "63-            <value>7200</value>\n",
      "64-            <doc>Coordinate size.</doc>\n",
      "65-        </property>\n",
      "66:        <property name=\"startingvalue\">\n",
      "67-            <value>33.0</value>\n",
      "68-            <doc>Starting value of the coordinate.</doc>\n",
      "69-        </property>\n",
      "70-    </component>\n"
     ]
    }
   ],
   "source": [
    "!grep -n4 'starting' demLat_N31_N33_Lon_W114_W113.dem.wgs84.xml"
   ]
  },
  {
   "cell_type": "code",
   "execution_count": 26,
   "id": "b068433a-3ab2-4ec9-bbb3-88fc70e2f7be",
   "metadata": {},
   "outputs": [],
   "source": [
    "from osgeo import gdal\n",
    "\n",
    "ds = gdal.Open(\"demLat_N31_N33_Lon_W114_W113.dem.wgs84.vrt\")\n",
    "dem_isce = ds.GetRasterBand(1).ReadAsArray()\n",
    "ds = None\n",
    "\n",
    "ds = gdal.Open(\"sardem_version.dem\")\n",
    "dem_sardem = ds.GetRasterBand(1).ReadAsArray()\n",
    "ds = None"
   ]
  },
  {
   "cell_type": "code",
   "execution_count": 31,
   "id": "2b0bb74a-ad51-4580-b99e-9b9f8ea2ec40",
   "metadata": {},
   "outputs": [
    {
     "data": {
      "text/plain": [
       "(1, 0.012789197530864197)"
      ]
     },
     "execution_count": 31,
     "metadata": {},
     "output_type": "execute_result"
    }
   ],
   "source": [
    "(dem_sardem - dem_isce).max(), abs(dem_sardem - dem_isce).mean(),"
   ]
  },
  {
   "cell_type": "code",
   "execution_count": 38,
   "id": "54e8bf0b-aee6-4b22-a116-9f58a7aa2bc6",
   "metadata": {},
   "outputs": [
    {
     "data": {
      "image/png": "[encoded data removed]",
      "text/plain": [
       "<Figure size 504x504 with 2 Axes>"
      ]
     },
     "metadata": {
      "needs_background": "light"
     },
     "output_type": "display_data"
    }
   ],
   "source": [
    "import matplotlib.pyplot as plt\n",
    "\n",
    "vm = 3\n",
    "fig, ax = plt.subplots(figsize=(7, 7))\n",
    "axim = ax.imshow(dem_sardem - dem_isce, vmin=-vm, vmax=vm, cmap=\"RdYlBu\")\n",
    "cbar = fig.colorbar(axim)\n",
    "cbar.set_label(\"[meters]\")\n",
    "ax.set_title(\"sardem - isce2\")\n",
    "fig.tight_layout()"
   ]
  },
  {
   "cell_type": "markdown",
   "id": "098dfb59-0f36-46ae-a4c2-c35c65cda334",
   "metadata": {},
   "source": [
    "The lines of +/-1 difference are due to integer truncation differenceds, and differences in the EGM96 -> WGS84 geoid conversion (since `sardem` uses GDAL for this step)."
   ]
  },
  {
   "cell_type": "code",
   "execution_count": null,
   "id": "6d08ffc3-dc6d-4157-930d-d24d4cb245b5",
   "metadata": {},
   "outputs": [],
   "source": []
  }
 ],
 "metadata": {
  "kernelspec": {
   "display_name": "Python 3 (ipykernel)",
   "language": "python",
   "name": "python3"
  },
  "language_info": {
   "codemirror_mode": {
    "name": "ipython",
    "version": 3
   },
   "file_extension": ".py",
   "mimetype": "text/x-python",
   "name": "python",
   "nbconvert_exporter": "python",
   "pygments_lexer": "ipython3",
   "version": "3.10.5"
  }
 },
 "nbformat": 4,
 "nbformat_minor": 5
}
